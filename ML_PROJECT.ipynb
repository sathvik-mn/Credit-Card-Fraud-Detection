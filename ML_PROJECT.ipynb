{
 "cells": [
  {
   "cell_type": "code",
   "execution_count": 1,
   "id": "e98efe6a-f5c3-44e1-8b3f-5e24a7035a2c",
   "metadata": {},
   "outputs": [],
   "source": [
    "import pandas as pd\n",
    "import numpy as np\n",
    "import matplotlib.pyplot as plt\n",
    "import seaborn as sns"
   ]
  },
  {
   "cell_type": "code",
   "execution_count": 16,
   "id": "f859e207-aa00-44f5-952f-ce565f02ebb1",
   "metadata": {},
   "outputs": [
    {
     "name": "stdout",
     "output_type": "stream",
     "text": [
      "Requirement already satisfied: scikit-learn in c:\\users\\admin\\appdata\\local\\programs\\python\\python312\\lib\\site-packages (1.4.1.post1)\n",
      "Requirement already satisfied: numpy<2.0,>=1.19.5 in c:\\users\\admin\\appdata\\local\\programs\\python\\python312\\lib\\site-packages (from scikit-learn) (1.26.3)\n",
      "Requirement already satisfied: scipy>=1.6.0 in c:\\users\\admin\\appdata\\local\\programs\\python\\python312\\lib\\site-packages (from scikit-learn) (1.12.0)\n",
      "Requirement already satisfied: joblib>=1.2.0 in c:\\users\\admin\\appdata\\local\\programs\\python\\python312\\lib\\site-packages (from scikit-learn) (1.3.2)\n",
      "Requirement already satisfied: threadpoolctl>=2.0.0 in c:\\users\\admin\\appdata\\local\\programs\\python\\python312\\lib\\site-packages (from scikit-learn) (3.4.0)\n"
     ]
    },
    {
     "name": "stderr",
     "output_type": "stream",
     "text": [
      "\n",
      "[notice] A new release of pip is available: 23.3.2 -> 24.0\n",
      "[notice] To update, run: python.exe -m pip install --upgrade pip\n"
     ]
    }
   ],
   "source": [
    "!pip install scikit-learn"
   ]
  },
  {
   "cell_type": "code",
   "execution_count": 29,
   "id": "a1e73b6a-73ce-483c-b308-0a8f7a2cf54e",
   "metadata": {},
   "outputs": [],
   "source": [
    "# Replace the path with the actual path to your CSV file\n",
    "file_path = 'D:\\\\Machine Learning\\\\Project\\\\Credit Card\\\\Credit-Card-Fraud-Detection\\\\creditcard.csv'\n",
    "df_data = pd.read_csv(file_path)"
   ]
  },
  {
   "cell_type": "code",
   "execution_count": 30,
   "id": "1d1bbb99-47d0-481c-b007-14c0f75bf020",
   "metadata": {},
   "outputs": [
    {
     "data": {
      "text/html": [
       "<div>\n",
       "<style scoped>\n",
       "    .dataframe tbody tr th:only-of-type {\n",
       "        vertical-align: middle;\n",
       "    }\n",
       "\n",
       "    .dataframe tbody tr th {\n",
       "        vertical-align: top;\n",
       "    }\n",
       "\n",
       "    .dataframe thead th {\n",
       "        text-align: right;\n",
       "    }\n",
       "</style>\n",
       "<table border=\"1\" class=\"dataframe\">\n",
       "  <thead>\n",
       "    <tr style=\"text-align: right;\">\n",
       "      <th></th>\n",
       "      <th>Time</th>\n",
       "      <th>V1</th>\n",
       "      <th>V2</th>\n",
       "      <th>V3</th>\n",
       "      <th>V4</th>\n",
       "      <th>V5</th>\n",
       "      <th>V6</th>\n",
       "      <th>V7</th>\n",
       "      <th>V8</th>\n",
       "      <th>V9</th>\n",
       "      <th>...</th>\n",
       "      <th>V21</th>\n",
       "      <th>V22</th>\n",
       "      <th>V23</th>\n",
       "      <th>V24</th>\n",
       "      <th>V25</th>\n",
       "      <th>V26</th>\n",
       "      <th>V27</th>\n",
       "      <th>V28</th>\n",
       "      <th>Amount</th>\n",
       "      <th>Class</th>\n",
       "    </tr>\n",
       "  </thead>\n",
       "  <tbody>\n",
       "    <tr>\n",
       "      <th>0</th>\n",
       "      <td>0.0</td>\n",
       "      <td>-1.359807</td>\n",
       "      <td>-0.072781</td>\n",
       "      <td>2.536347</td>\n",
       "      <td>1.378155</td>\n",
       "      <td>-0.338321</td>\n",
       "      <td>0.462388</td>\n",
       "      <td>0.239599</td>\n",
       "      <td>0.098698</td>\n",
       "      <td>0.363787</td>\n",
       "      <td>...</td>\n",
       "      <td>-0.018307</td>\n",
       "      <td>0.277838</td>\n",
       "      <td>-0.110474</td>\n",
       "      <td>0.066928</td>\n",
       "      <td>0.128539</td>\n",
       "      <td>-0.189115</td>\n",
       "      <td>0.133558</td>\n",
       "      <td>-0.021053</td>\n",
       "      <td>149.62</td>\n",
       "      <td>0</td>\n",
       "    </tr>\n",
       "    <tr>\n",
       "      <th>1</th>\n",
       "      <td>0.0</td>\n",
       "      <td>1.191857</td>\n",
       "      <td>0.266151</td>\n",
       "      <td>0.166480</td>\n",
       "      <td>0.448154</td>\n",
       "      <td>0.060018</td>\n",
       "      <td>-0.082361</td>\n",
       "      <td>-0.078803</td>\n",
       "      <td>0.085102</td>\n",
       "      <td>-0.255425</td>\n",
       "      <td>...</td>\n",
       "      <td>-0.225775</td>\n",
       "      <td>-0.638672</td>\n",
       "      <td>0.101288</td>\n",
       "      <td>-0.339846</td>\n",
       "      <td>0.167170</td>\n",
       "      <td>0.125895</td>\n",
       "      <td>-0.008983</td>\n",
       "      <td>0.014724</td>\n",
       "      <td>2.69</td>\n",
       "      <td>0</td>\n",
       "    </tr>\n",
       "    <tr>\n",
       "      <th>2</th>\n",
       "      <td>1.0</td>\n",
       "      <td>-1.358354</td>\n",
       "      <td>-1.340163</td>\n",
       "      <td>1.773209</td>\n",
       "      <td>0.379780</td>\n",
       "      <td>-0.503198</td>\n",
       "      <td>1.800499</td>\n",
       "      <td>0.791461</td>\n",
       "      <td>0.247676</td>\n",
       "      <td>-1.514654</td>\n",
       "      <td>...</td>\n",
       "      <td>0.247998</td>\n",
       "      <td>0.771679</td>\n",
       "      <td>0.909412</td>\n",
       "      <td>-0.689281</td>\n",
       "      <td>-0.327642</td>\n",
       "      <td>-0.139097</td>\n",
       "      <td>-0.055353</td>\n",
       "      <td>-0.059752</td>\n",
       "      <td>378.66</td>\n",
       "      <td>0</td>\n",
       "    </tr>\n",
       "    <tr>\n",
       "      <th>3</th>\n",
       "      <td>1.0</td>\n",
       "      <td>-0.966272</td>\n",
       "      <td>-0.185226</td>\n",
       "      <td>1.792993</td>\n",
       "      <td>-0.863291</td>\n",
       "      <td>-0.010309</td>\n",
       "      <td>1.247203</td>\n",
       "      <td>0.237609</td>\n",
       "      <td>0.377436</td>\n",
       "      <td>-1.387024</td>\n",
       "      <td>...</td>\n",
       "      <td>-0.108300</td>\n",
       "      <td>0.005274</td>\n",
       "      <td>-0.190321</td>\n",
       "      <td>-1.175575</td>\n",
       "      <td>0.647376</td>\n",
       "      <td>-0.221929</td>\n",
       "      <td>0.062723</td>\n",
       "      <td>0.061458</td>\n",
       "      <td>123.50</td>\n",
       "      <td>0</td>\n",
       "    </tr>\n",
       "    <tr>\n",
       "      <th>4</th>\n",
       "      <td>2.0</td>\n",
       "      <td>-1.158233</td>\n",
       "      <td>0.877737</td>\n",
       "      <td>1.548718</td>\n",
       "      <td>0.403034</td>\n",
       "      <td>-0.407193</td>\n",
       "      <td>0.095921</td>\n",
       "      <td>0.592941</td>\n",
       "      <td>-0.270533</td>\n",
       "      <td>0.817739</td>\n",
       "      <td>...</td>\n",
       "      <td>-0.009431</td>\n",
       "      <td>0.798278</td>\n",
       "      <td>-0.137458</td>\n",
       "      <td>0.141267</td>\n",
       "      <td>-0.206010</td>\n",
       "      <td>0.502292</td>\n",
       "      <td>0.219422</td>\n",
       "      <td>0.215153</td>\n",
       "      <td>69.99</td>\n",
       "      <td>0</td>\n",
       "    </tr>\n",
       "    <tr>\n",
       "      <th>...</th>\n",
       "      <td>...</td>\n",
       "      <td>...</td>\n",
       "      <td>...</td>\n",
       "      <td>...</td>\n",
       "      <td>...</td>\n",
       "      <td>...</td>\n",
       "      <td>...</td>\n",
       "      <td>...</td>\n",
       "      <td>...</td>\n",
       "      <td>...</td>\n",
       "      <td>...</td>\n",
       "      <td>...</td>\n",
       "      <td>...</td>\n",
       "      <td>...</td>\n",
       "      <td>...</td>\n",
       "      <td>...</td>\n",
       "      <td>...</td>\n",
       "      <td>...</td>\n",
       "      <td>...</td>\n",
       "      <td>...</td>\n",
       "      <td>...</td>\n",
       "    </tr>\n",
       "    <tr>\n",
       "      <th>284802</th>\n",
       "      <td>172786.0</td>\n",
       "      <td>-11.881118</td>\n",
       "      <td>10.071785</td>\n",
       "      <td>-9.834783</td>\n",
       "      <td>-2.066656</td>\n",
       "      <td>-5.364473</td>\n",
       "      <td>-2.606837</td>\n",
       "      <td>-4.918215</td>\n",
       "      <td>7.305334</td>\n",
       "      <td>1.914428</td>\n",
       "      <td>...</td>\n",
       "      <td>0.213454</td>\n",
       "      <td>0.111864</td>\n",
       "      <td>1.014480</td>\n",
       "      <td>-0.509348</td>\n",
       "      <td>1.436807</td>\n",
       "      <td>0.250034</td>\n",
       "      <td>0.943651</td>\n",
       "      <td>0.823731</td>\n",
       "      <td>0.77</td>\n",
       "      <td>0</td>\n",
       "    </tr>\n",
       "    <tr>\n",
       "      <th>284803</th>\n",
       "      <td>172787.0</td>\n",
       "      <td>-0.732789</td>\n",
       "      <td>-0.055080</td>\n",
       "      <td>2.035030</td>\n",
       "      <td>-0.738589</td>\n",
       "      <td>0.868229</td>\n",
       "      <td>1.058415</td>\n",
       "      <td>0.024330</td>\n",
       "      <td>0.294869</td>\n",
       "      <td>0.584800</td>\n",
       "      <td>...</td>\n",
       "      <td>0.214205</td>\n",
       "      <td>0.924384</td>\n",
       "      <td>0.012463</td>\n",
       "      <td>-1.016226</td>\n",
       "      <td>-0.606624</td>\n",
       "      <td>-0.395255</td>\n",
       "      <td>0.068472</td>\n",
       "      <td>-0.053527</td>\n",
       "      <td>24.79</td>\n",
       "      <td>0</td>\n",
       "    </tr>\n",
       "    <tr>\n",
       "      <th>284804</th>\n",
       "      <td>172788.0</td>\n",
       "      <td>1.919565</td>\n",
       "      <td>-0.301254</td>\n",
       "      <td>-3.249640</td>\n",
       "      <td>-0.557828</td>\n",
       "      <td>2.630515</td>\n",
       "      <td>3.031260</td>\n",
       "      <td>-0.296827</td>\n",
       "      <td>0.708417</td>\n",
       "      <td>0.432454</td>\n",
       "      <td>...</td>\n",
       "      <td>0.232045</td>\n",
       "      <td>0.578229</td>\n",
       "      <td>-0.037501</td>\n",
       "      <td>0.640134</td>\n",
       "      <td>0.265745</td>\n",
       "      <td>-0.087371</td>\n",
       "      <td>0.004455</td>\n",
       "      <td>-0.026561</td>\n",
       "      <td>67.88</td>\n",
       "      <td>0</td>\n",
       "    </tr>\n",
       "    <tr>\n",
       "      <th>284805</th>\n",
       "      <td>172788.0</td>\n",
       "      <td>-0.240440</td>\n",
       "      <td>0.530483</td>\n",
       "      <td>0.702510</td>\n",
       "      <td>0.689799</td>\n",
       "      <td>-0.377961</td>\n",
       "      <td>0.623708</td>\n",
       "      <td>-0.686180</td>\n",
       "      <td>0.679145</td>\n",
       "      <td>0.392087</td>\n",
       "      <td>...</td>\n",
       "      <td>0.265245</td>\n",
       "      <td>0.800049</td>\n",
       "      <td>-0.163298</td>\n",
       "      <td>0.123205</td>\n",
       "      <td>-0.569159</td>\n",
       "      <td>0.546668</td>\n",
       "      <td>0.108821</td>\n",
       "      <td>0.104533</td>\n",
       "      <td>10.00</td>\n",
       "      <td>0</td>\n",
       "    </tr>\n",
       "    <tr>\n",
       "      <th>284806</th>\n",
       "      <td>172792.0</td>\n",
       "      <td>-0.533413</td>\n",
       "      <td>-0.189733</td>\n",
       "      <td>0.703337</td>\n",
       "      <td>-0.506271</td>\n",
       "      <td>-0.012546</td>\n",
       "      <td>-0.649617</td>\n",
       "      <td>1.577006</td>\n",
       "      <td>-0.414650</td>\n",
       "      <td>0.486180</td>\n",
       "      <td>...</td>\n",
       "      <td>0.261057</td>\n",
       "      <td>0.643078</td>\n",
       "      <td>0.376777</td>\n",
       "      <td>0.008797</td>\n",
       "      <td>-0.473649</td>\n",
       "      <td>-0.818267</td>\n",
       "      <td>-0.002415</td>\n",
       "      <td>0.013649</td>\n",
       "      <td>217.00</td>\n",
       "      <td>0</td>\n",
       "    </tr>\n",
       "  </tbody>\n",
       "</table>\n",
       "<p>284807 rows × 31 columns</p>\n",
       "</div>"
      ],
      "text/plain": [
       "            Time         V1         V2        V3        V4        V5  \\\n",
       "0            0.0  -1.359807  -0.072781  2.536347  1.378155 -0.338321   \n",
       "1            0.0   1.191857   0.266151  0.166480  0.448154  0.060018   \n",
       "2            1.0  -1.358354  -1.340163  1.773209  0.379780 -0.503198   \n",
       "3            1.0  -0.966272  -0.185226  1.792993 -0.863291 -0.010309   \n",
       "4            2.0  -1.158233   0.877737  1.548718  0.403034 -0.407193   \n",
       "...          ...        ...        ...       ...       ...       ...   \n",
       "284802  172786.0 -11.881118  10.071785 -9.834783 -2.066656 -5.364473   \n",
       "284803  172787.0  -0.732789  -0.055080  2.035030 -0.738589  0.868229   \n",
       "284804  172788.0   1.919565  -0.301254 -3.249640 -0.557828  2.630515   \n",
       "284805  172788.0  -0.240440   0.530483  0.702510  0.689799 -0.377961   \n",
       "284806  172792.0  -0.533413  -0.189733  0.703337 -0.506271 -0.012546   \n",
       "\n",
       "              V6        V7        V8        V9  ...       V21       V22  \\\n",
       "0       0.462388  0.239599  0.098698  0.363787  ... -0.018307  0.277838   \n",
       "1      -0.082361 -0.078803  0.085102 -0.255425  ... -0.225775 -0.638672   \n",
       "2       1.800499  0.791461  0.247676 -1.514654  ...  0.247998  0.771679   \n",
       "3       1.247203  0.237609  0.377436 -1.387024  ... -0.108300  0.005274   \n",
       "4       0.095921  0.592941 -0.270533  0.817739  ... -0.009431  0.798278   \n",
       "...          ...       ...       ...       ...  ...       ...       ...   \n",
       "284802 -2.606837 -4.918215  7.305334  1.914428  ...  0.213454  0.111864   \n",
       "284803  1.058415  0.024330  0.294869  0.584800  ...  0.214205  0.924384   \n",
       "284804  3.031260 -0.296827  0.708417  0.432454  ...  0.232045  0.578229   \n",
       "284805  0.623708 -0.686180  0.679145  0.392087  ...  0.265245  0.800049   \n",
       "284806 -0.649617  1.577006 -0.414650  0.486180  ...  0.261057  0.643078   \n",
       "\n",
       "             V23       V24       V25       V26       V27       V28  Amount  \\\n",
       "0      -0.110474  0.066928  0.128539 -0.189115  0.133558 -0.021053  149.62   \n",
       "1       0.101288 -0.339846  0.167170  0.125895 -0.008983  0.014724    2.69   \n",
       "2       0.909412 -0.689281 -0.327642 -0.139097 -0.055353 -0.059752  378.66   \n",
       "3      -0.190321 -1.175575  0.647376 -0.221929  0.062723  0.061458  123.50   \n",
       "4      -0.137458  0.141267 -0.206010  0.502292  0.219422  0.215153   69.99   \n",
       "...          ...       ...       ...       ...       ...       ...     ...   \n",
       "284802  1.014480 -0.509348  1.436807  0.250034  0.943651  0.823731    0.77   \n",
       "284803  0.012463 -1.016226 -0.606624 -0.395255  0.068472 -0.053527   24.79   \n",
       "284804 -0.037501  0.640134  0.265745 -0.087371  0.004455 -0.026561   67.88   \n",
       "284805 -0.163298  0.123205 -0.569159  0.546668  0.108821  0.104533   10.00   \n",
       "284806  0.376777  0.008797 -0.473649 -0.818267 -0.002415  0.013649  217.00   \n",
       "\n",
       "        Class  \n",
       "0           0  \n",
       "1           0  \n",
       "2           0  \n",
       "3           0  \n",
       "4           0  \n",
       "...       ...  \n",
       "284802      0  \n",
       "284803      0  \n",
       "284804      0  \n",
       "284805      0  \n",
       "284806      0  \n",
       "\n",
       "[284807 rows x 31 columns]"
      ]
     },
     "execution_count": 30,
     "metadata": {},
     "output_type": "execute_result"
    }
   ],
   "source": [
    "df_data"
   ]
  },
  {
   "cell_type": "code",
   "execution_count": 31,
   "id": "16dcd200-5131-46be-8916-d6f96fc4add5",
   "metadata": {},
   "outputs": [
    {
     "name": "stdout",
     "output_type": "stream",
     "text": [
      "Data shape: (284807, 31)\n",
      "Labels, Label count: (array([0, 1], dtype=int64), array([284315,    492], dtype=int64))\n",
      "\n"
     ]
    }
   ],
   "source": [
    "import numpy as np\n",
    "# prints info\n",
    "print('Data shape:', df_data.shape)\n",
    "print('Labels, Label count:', np.unique(df_data['Class'], return_counts=True))\n",
    "print()"
   ]
  },
  {
   "cell_type": "code",
   "execution_count": 32,
   "id": "ed4830c7-39d8-4a1f-baff-5894834144b2",
   "metadata": {},
   "outputs": [],
   "source": [
    "# For plotting\n",
    "import plotly.express as px\n",
    "import plotly.graph_objects as go\n",
    "import matplotlib.pyplot as plt"
   ]
  },
  {
   "cell_type": "code",
   "execution_count": 33,
   "id": "5ed01810-c412-4701-b842-9dc2607f160a",
   "metadata": {},
   "outputs": [],
   "source": [
    "df_data.Class = df_data.Class.replace({1: True, 0: False})\n"
   ]
  },
  {
   "cell_type": "code",
   "execution_count": 35,
   "id": "9d6c0aad-0e3c-44f0-81f0-bc17f10b4803",
   "metadata": {},
   "outputs": [
    {
     "data": {
      "application/vnd.plotly.v1+json": {
       "config": {
        "plotlyServerURL": "https://plot.ly"
       },
       "data": [
        {
         "alignmentgroup": "True",
         "hovertemplate": "Class=%{x}<br>y=%{y}<extra></extra>",
         "legendgroup": "False",
         "marker": {
          "color": "#636efa",
          "pattern": {
           "shape": ""
          }
         },
         "name": "False",
         "offsetgroup": "False",
         "orientation": "v",
         "showlegend": true,
         "textposition": "auto",
         "type": "bar",
         "x": [
          false
         ],
         "xaxis": "x",
         "y": [
          284315
         ],
         "yaxis": "y"
        },
        {
         "alignmentgroup": "True",
         "hovertemplate": "Class=%{x}<br>y=%{y}<extra></extra>",
         "legendgroup": "True",
         "marker": {
          "color": "#EF553B",
          "pattern": {
           "shape": ""
          }
         },
         "name": "True",
         "offsetgroup": "True",
         "orientation": "v",
         "showlegend": true,
         "textposition": "auto",
         "type": "bar",
         "x": [
          true
         ],
         "xaxis": "x",
         "y": [
          492
         ],
         "yaxis": "y"
        }
       ],
       "layout": {
        "autosize": true,
        "barmode": "relative",
        "font": {
         "color": "Black",
         "family": "Arial",
         "size": 12
        },
        "legend": {
         "title": {
          "text": "Classified as a fraud"
         },
         "tracegroupgap": 0
        },
        "margin": {
         "t": 60
        },
        "template": {
         "data": {
          "bar": [
           {
            "error_x": {
             "color": "#2a3f5f"
            },
            "error_y": {
             "color": "#2a3f5f"
            },
            "marker": {
             "line": {
              "color": "#E5ECF6",
              "width": 0.5
             },
             "pattern": {
              "fillmode": "overlay",
              "size": 10,
              "solidity": 0.2
             }
            },
            "type": "bar"
           }
          ],
          "barpolar": [
           {
            "marker": {
             "line": {
              "color": "#E5ECF6",
              "width": 0.5
             },
             "pattern": {
              "fillmode": "overlay",
              "size": 10,
              "solidity": 0.2
             }
            },
            "type": "barpolar"
           }
          ],
          "carpet": [
           {
            "aaxis": {
             "endlinecolor": "#2a3f5f",
             "gridcolor": "white",
             "linecolor": "white",
             "minorgridcolor": "white",
             "startlinecolor": "#2a3f5f"
            },
            "baxis": {
             "endlinecolor": "#2a3f5f",
             "gridcolor": "white",
             "linecolor": "white",
             "minorgridcolor": "white",
             "startlinecolor": "#2a3f5f"
            },
            "type": "carpet"
           }
          ],
          "choropleth": [
           {
            "colorbar": {
             "outlinewidth": 0,
             "ticks": ""
            },
            "type": "choropleth"
           }
          ],
          "contour": [
           {
            "colorbar": {
             "outlinewidth": 0,
             "ticks": ""
            },
            "colorscale": [
             [
              0,
              "#0d0887"
             ],
             [
              0.1111111111111111,
              "#46039f"
             ],
             [
              0.2222222222222222,
              "#7201a8"
             ],
             [
              0.3333333333333333,
              "#9c179e"
             ],
             [
              0.4444444444444444,
              "#bd3786"
             ],
             [
              0.5555555555555556,
              "#d8576b"
             ],
             [
              0.6666666666666666,
              "#ed7953"
             ],
             [
              0.7777777777777778,
              "#fb9f3a"
             ],
             [
              0.8888888888888888,
              "#fdca26"
             ],
             [
              1,
              "#f0f921"
             ]
            ],
            "type": "contour"
           }
          ],
          "contourcarpet": [
           {
            "colorbar": {
             "outlinewidth": 0,
             "ticks": ""
            },
            "type": "contourcarpet"
           }
          ],
          "heatmap": [
           {
            "colorbar": {
             "outlinewidth": 0,
             "ticks": ""
            },
            "colorscale": [
             [
              0,
              "#0d0887"
             ],
             [
              0.1111111111111111,
              "#46039f"
             ],
             [
              0.2222222222222222,
              "#7201a8"
             ],
             [
              0.3333333333333333,
              "#9c179e"
             ],
             [
              0.4444444444444444,
              "#bd3786"
             ],
             [
              0.5555555555555556,
              "#d8576b"
             ],
             [
              0.6666666666666666,
              "#ed7953"
             ],
             [
              0.7777777777777778,
              "#fb9f3a"
             ],
             [
              0.8888888888888888,
              "#fdca26"
             ],
             [
              1,
              "#f0f921"
             ]
            ],
            "type": "heatmap"
           }
          ],
          "heatmapgl": [
           {
            "colorbar": {
             "outlinewidth": 0,
             "ticks": ""
            },
            "colorscale": [
             [
              0,
              "#0d0887"
             ],
             [
              0.1111111111111111,
              "#46039f"
             ],
             [
              0.2222222222222222,
              "#7201a8"
             ],
             [
              0.3333333333333333,
              "#9c179e"
             ],
             [
              0.4444444444444444,
              "#bd3786"
             ],
             [
              0.5555555555555556,
              "#d8576b"
             ],
             [
              0.6666666666666666,
              "#ed7953"
             ],
             [
              0.7777777777777778,
              "#fb9f3a"
             ],
             [
              0.8888888888888888,
              "#fdca26"
             ],
             [
              1,
              "#f0f921"
             ]
            ],
            "type": "heatmapgl"
           }
          ],
          "histogram": [
           {
            "marker": {
             "pattern": {
              "fillmode": "overlay",
              "size": 10,
              "solidity": 0.2
             }
            },
            "type": "histogram"
           }
          ],
          "histogram2d": [
           {
            "colorbar": {
             "outlinewidth": 0,
             "ticks": ""
            },
            "colorscale": [
             [
              0,
              "#0d0887"
             ],
             [
              0.1111111111111111,
              "#46039f"
             ],
             [
              0.2222222222222222,
              "#7201a8"
             ],
             [
              0.3333333333333333,
              "#9c179e"
             ],
             [
              0.4444444444444444,
              "#bd3786"
             ],
             [
              0.5555555555555556,
              "#d8576b"
             ],
             [
              0.6666666666666666,
              "#ed7953"
             ],
             [
              0.7777777777777778,
              "#fb9f3a"
             ],
             [
              0.8888888888888888,
              "#fdca26"
             ],
             [
              1,
              "#f0f921"
             ]
            ],
            "type": "histogram2d"
           }
          ],
          "histogram2dcontour": [
           {
            "colorbar": {
             "outlinewidth": 0,
             "ticks": ""
            },
            "colorscale": [
             [
              0,
              "#0d0887"
             ],
             [
              0.1111111111111111,
              "#46039f"
             ],
             [
              0.2222222222222222,
              "#7201a8"
             ],
             [
              0.3333333333333333,
              "#9c179e"
             ],
             [
              0.4444444444444444,
              "#bd3786"
             ],
             [
              0.5555555555555556,
              "#d8576b"
             ],
             [
              0.6666666666666666,
              "#ed7953"
             ],
             [
              0.7777777777777778,
              "#fb9f3a"
             ],
             [
              0.8888888888888888,
              "#fdca26"
             ],
             [
              1,
              "#f0f921"
             ]
            ],
            "type": "histogram2dcontour"
           }
          ],
          "mesh3d": [
           {
            "colorbar": {
             "outlinewidth": 0,
             "ticks": ""
            },
            "type": "mesh3d"
           }
          ],
          "parcoords": [
           {
            "line": {
             "colorbar": {
              "outlinewidth": 0,
              "ticks": ""
             }
            },
            "type": "parcoords"
           }
          ],
          "pie": [
           {
            "automargin": true,
            "type": "pie"
           }
          ],
          "scatter": [
           {
            "fillpattern": {
             "fillmode": "overlay",
             "size": 10,
             "solidity": 0.2
            },
            "type": "scatter"
           }
          ],
          "scatter3d": [
           {
            "line": {
             "colorbar": {
              "outlinewidth": 0,
              "ticks": ""
             }
            },
            "marker": {
             "colorbar": {
              "outlinewidth": 0,
              "ticks": ""
             }
            },
            "type": "scatter3d"
           }
          ],
          "scattercarpet": [
           {
            "marker": {
             "colorbar": {
              "outlinewidth": 0,
              "ticks": ""
             }
            },
            "type": "scattercarpet"
           }
          ],
          "scattergeo": [
           {
            "marker": {
             "colorbar": {
              "outlinewidth": 0,
              "ticks": ""
             }
            },
            "type": "scattergeo"
           }
          ],
          "scattergl": [
           {
            "marker": {
             "colorbar": {
              "outlinewidth": 0,
              "ticks": ""
             }
            },
            "type": "scattergl"
           }
          ],
          "scattermapbox": [
           {
            "marker": {
             "colorbar": {
              "outlinewidth": 0,
              "ticks": ""
             }
            },
            "type": "scattermapbox"
           }
          ],
          "scatterpolar": [
           {
            "marker": {
             "colorbar": {
              "outlinewidth": 0,
              "ticks": ""
             }
            },
            "type": "scatterpolar"
           }
          ],
          "scatterpolargl": [
           {
            "marker": {
             "colorbar": {
              "outlinewidth": 0,
              "ticks": ""
             }
            },
            "type": "scatterpolargl"
           }
          ],
          "scatterternary": [
           {
            "marker": {
             "colorbar": {
              "outlinewidth": 0,
              "ticks": ""
             }
            },
            "type": "scatterternary"
           }
          ],
          "surface": [
           {
            "colorbar": {
             "outlinewidth": 0,
             "ticks": ""
            },
            "colorscale": [
             [
              0,
              "#0d0887"
             ],
             [
              0.1111111111111111,
              "#46039f"
             ],
             [
              0.2222222222222222,
              "#7201a8"
             ],
             [
              0.3333333333333333,
              "#9c179e"
             ],
             [
              0.4444444444444444,
              "#bd3786"
             ],
             [
              0.5555555555555556,
              "#d8576b"
             ],
             [
              0.6666666666666666,
              "#ed7953"
             ],
             [
              0.7777777777777778,
              "#fb9f3a"
             ],
             [
              0.8888888888888888,
              "#fdca26"
             ],
             [
              1,
              "#f0f921"
             ]
            ],
            "type": "surface"
           }
          ],
          "table": [
           {
            "cells": {
             "fill": {
              "color": "#EBF0F8"
             },
             "line": {
              "color": "white"
             }
            },
            "header": {
             "fill": {
              "color": "#C8D4E3"
             },
             "line": {
              "color": "white"
             }
            },
            "type": "table"
           }
          ]
         },
         "layout": {
          "annotationdefaults": {
           "arrowcolor": "#2a3f5f",
           "arrowhead": 0,
           "arrowwidth": 1
          },
          "autotypenumbers": "strict",
          "coloraxis": {
           "colorbar": {
            "outlinewidth": 0,
            "ticks": ""
           }
          },
          "colorscale": {
           "diverging": [
            [
             0,
             "#8e0152"
            ],
            [
             0.1,
             "#c51b7d"
            ],
            [
             0.2,
             "#de77ae"
            ],
            [
             0.3,
             "#f1b6da"
            ],
            [
             0.4,
             "#fde0ef"
            ],
            [
             0.5,
             "#f7f7f7"
            ],
            [
             0.6,
             "#e6f5d0"
            ],
            [
             0.7,
             "#b8e186"
            ],
            [
             0.8,
             "#7fbc41"
            ],
            [
             0.9,
             "#4d9221"
            ],
            [
             1,
             "#276419"
            ]
           ],
           "sequential": [
            [
             0,
             "#0d0887"
            ],
            [
             0.1111111111111111,
             "#46039f"
            ],
            [
             0.2222222222222222,
             "#7201a8"
            ],
            [
             0.3333333333333333,
             "#9c179e"
            ],
            [
             0.4444444444444444,
             "#bd3786"
            ],
            [
             0.5555555555555556,
             "#d8576b"
            ],
            [
             0.6666666666666666,
             "#ed7953"
            ],
            [
             0.7777777777777778,
             "#fb9f3a"
            ],
            [
             0.8888888888888888,
             "#fdca26"
            ],
            [
             1,
             "#f0f921"
            ]
           ],
           "sequentialminus": [
            [
             0,
             "#0d0887"
            ],
            [
             0.1111111111111111,
             "#46039f"
            ],
            [
             0.2222222222222222,
             "#7201a8"
            ],
            [
             0.3333333333333333,
             "#9c179e"
            ],
            [
             0.4444444444444444,
             "#bd3786"
            ],
            [
             0.5555555555555556,
             "#d8576b"
            ],
            [
             0.6666666666666666,
             "#ed7953"
            ],
            [
             0.7777777777777778,
             "#fb9f3a"
            ],
            [
             0.8888888888888888,
             "#fdca26"
            ],
            [
             1,
             "#f0f921"
            ]
           ]
          },
          "colorway": [
           "#636efa",
           "#EF553B",
           "#00cc96",
           "#ab63fa",
           "#FFA15A",
           "#19d3f3",
           "#FF6692",
           "#B6E880",
           "#FF97FF",
           "#FECB52"
          ],
          "font": {
           "color": "#2a3f5f"
          },
          "geo": {
           "bgcolor": "white",
           "lakecolor": "white",
           "landcolor": "#E5ECF6",
           "showlakes": true,
           "showland": true,
           "subunitcolor": "white"
          },
          "hoverlabel": {
           "align": "left"
          },
          "hovermode": "closest",
          "mapbox": {
           "style": "light"
          },
          "paper_bgcolor": "white",
          "plot_bgcolor": "#E5ECF6",
          "polar": {
           "angularaxis": {
            "gridcolor": "white",
            "linecolor": "white",
            "ticks": ""
           },
           "bgcolor": "#E5ECF6",
           "radialaxis": {
            "gridcolor": "white",
            "linecolor": "white",
            "ticks": ""
           }
          },
          "scene": {
           "xaxis": {
            "backgroundcolor": "#E5ECF6",
            "gridcolor": "white",
            "gridwidth": 2,
            "linecolor": "white",
            "showbackground": true,
            "ticks": "",
            "zerolinecolor": "white"
           },
           "yaxis": {
            "backgroundcolor": "#E5ECF6",
            "gridcolor": "white",
            "gridwidth": 2,
            "linecolor": "white",
            "showbackground": true,
            "ticks": "",
            "zerolinecolor": "white"
           },
           "zaxis": {
            "backgroundcolor": "#E5ECF6",
            "gridcolor": "white",
            "gridwidth": 2,
            "linecolor": "white",
            "showbackground": true,
            "ticks": "",
            "zerolinecolor": "white"
           }
          },
          "shapedefaults": {
           "line": {
            "color": "#2a3f5f"
           }
          },
          "ternary": {
           "aaxis": {
            "gridcolor": "white",
            "linecolor": "white",
            "ticks": ""
           },
           "baxis": {
            "gridcolor": "white",
            "linecolor": "white",
            "ticks": ""
           },
           "bgcolor": "#E5ECF6",
           "caxis": {
            "gridcolor": "white",
            "linecolor": "white",
            "ticks": ""
           }
          },
          "title": {
           "x": 0.05
          },
          "xaxis": {
           "automargin": true,
           "gridcolor": "white",
           "linecolor": "white",
           "ticks": "",
           "title": {
            "standoff": 15
           },
           "zerolinecolor": "white",
           "zerolinewidth": 2
          },
          "yaxis": {
           "automargin": true,
           "gridcolor": "white",
           "linecolor": "white",
           "ticks": "",
           "title": {
            "standoff": 15
           },
           "zerolinecolor": "white",
           "zerolinewidth": 2
          }
         }
        },
        "title": {
         "text": "Spread of credit card frauds"
        },
        "xaxis": {
         "anchor": "y",
         "autorange": true,
         "categoryarray": [
          false,
          true
         ],
         "categoryorder": "array",
         "domain": [
          0,
          1
         ],
         "range": [
          -0.5,
          1.5
         ],
         "title": {
          "text": "Class"
         },
         "type": "category"
        },
        "yaxis": {
         "anchor": "x",
         "autorange": true,
         "domain": [
          0,
          1
         ],
         "range": [
          0,
          299278.94736842107
         ],
         "title": {
          "text": "Transactions"
         },
         "type": "linear"
        }
       }
      },
      "image/png": "[encoded data removed]",
      "text/html": [
       "<div>                            <div id=\"92d544bb-4007-4db7-bf92-a3278f232fae\" class=\"plotly-graph-div\" style=\"height:525px; width:100%;\"></div>            <script type=\"text/javascript\">                require([\"plotly\"], function(Plotly) {                    window.PLOTLYENV=window.PLOTLYENV || {};                                    if (document.getElementById(\"92d544bb-4007-4db7-bf92-a3278f232fae\")) {                    Plotly.newPlot(                        \"92d544bb-4007-4db7-bf92-a3278f232fae\",                        [{\"alignmentgroup\":\"True\",\"hovertemplate\":\"Class=%{x}\\u003cbr\\u003ey=%{y}\\u003cextra\\u003e\\u003c\\u002fextra\\u003e\",\"legendgroup\":\"False\",\"marker\":{\"color\":\"#636efa\",\"pattern\":{\"shape\":\"\"}},\"name\":\"False\",\"offsetgroup\":\"False\",\"orientation\":\"v\",\"showlegend\":true,\"textposition\":\"auto\",\"x\":[false],\"xaxis\":\"x\",\"y\":[284315],\"yaxis\":\"y\",\"type\":\"bar\"},{\"alignmentgroup\":\"True\",\"hovertemplate\":\"Class=%{x}\\u003cbr\\u003ey=%{y}\\u003cextra\\u003e\\u003c\\u002fextra\\u003e\",\"legendgroup\":\"True\",\"marker\":{\"color\":\"#EF553B\",\"pattern\":{\"shape\":\"\"}},\"name\":\"True\",\"offsetgroup\":\"True\",\"orientation\":\"v\",\"showlegend\":true,\"textposition\":\"auto\",\"x\":[true],\"xaxis\":\"x\",\"y\":[492],\"yaxis\":\"y\",\"type\":\"bar\"}],                        {\"template\":{\"data\":{\"histogram2dcontour\":[{\"type\":\"histogram2dcontour\",\"colorbar\":{\"outlinewidth\":0,\"ticks\":\"\"},\"colorscale\":[[0.0,\"#0d0887\"],[0.1111111111111111,\"#46039f\"],[0.2222222222222222,\"#7201a8\"],[0.3333333333333333,\"#9c179e\"],[0.4444444444444444,\"#bd3786\"],[0.5555555555555556,\"#d8576b\"],[0.6666666666666666,\"#ed7953\"],[0.7777777777777778,\"#fb9f3a\"],[0.8888888888888888,\"#fdca26\"],[1.0,\"#f0f921\"]]}],\"choropleth\":[{\"type\":\"choropleth\",\"colorbar\":{\"outlinewidth\":0,\"ticks\":\"\"}}],\"histogram2d\":[{\"type\":\"histogram2d\",\"colorbar\":{\"outlinewidth\":0,\"ticks\":\"\"},\"colorscale\":[[0.0,\"#0d0887\"],[0.1111111111111111,\"#46039f\"],[0.2222222222222222,\"#7201a8\"],[0.3333333333333333,\"#9c179e\"],[0.4444444444444444,\"#bd3786\"],[0.5555555555555556,\"#d8576b\"],[0.6666666666666666,\"#ed7953\"],[0.7777777777777778,\"#fb9f3a\"],[0.8888888888888888,\"#fdca26\"],[1.0,\"#f0f921\"]]}],\"heatmap\":[{\"type\":\"heatmap\",\"colorbar\":{\"outlinewidth\":0,\"ticks\":\"\"},\"colorscale\":[[0.0,\"#0d0887\"],[0.1111111111111111,\"#46039f\"],[0.2222222222222222,\"#7201a8\"],[0.3333333333333333,\"#9c179e\"],[0.4444444444444444,\"#bd3786\"],[0.5555555555555556,\"#d8576b\"],[0.6666666666666666,\"#ed7953\"],[0.7777777777777778,\"#fb9f3a\"],[0.8888888888888888,\"#fdca26\"],[1.0,\"#f0f921\"]]}],\"heatmapgl\":[{\"type\":\"heatmapgl\",\"colorbar\":{\"outlinewidth\":0,\"ticks\":\"\"},\"colorscale\":[[0.0,\"#0d0887\"],[0.1111111111111111,\"#46039f\"],[0.2222222222222222,\"#7201a8\"],[0.3333333333333333,\"#9c179e\"],[0.4444444444444444,\"#bd3786\"],[0.5555555555555556,\"#d8576b\"],[0.6666666666666666,\"#ed7953\"],[0.7777777777777778,\"#fb9f3a\"],[0.8888888888888888,\"#fdca26\"],[1.0,\"#f0f921\"]]}],\"contourcarpet\":[{\"type\":\"contourcarpet\",\"colorbar\":{\"outlinewidth\":0,\"ticks\":\"\"}}],\"contour\":[{\"type\":\"contour\",\"colorbar\":{\"outlinewidth\":0,\"ticks\":\"\"},\"colorscale\":[[0.0,\"#0d0887\"],[0.1111111111111111,\"#46039f\"],[0.2222222222222222,\"#7201a8\"],[0.3333333333333333,\"#9c179e\"],[0.4444444444444444,\"#bd3786\"],[0.5555555555555556,\"#d8576b\"],[0.6666666666666666,\"#ed7953\"],[0.7777777777777778,\"#fb9f3a\"],[0.8888888888888888,\"#fdca26\"],[1.0,\"#f0f921\"]]}],\"surface\":[{\"type\":\"surface\",\"colorbar\":{\"outlinewidth\":0,\"ticks\":\"\"},\"colorscale\":[[0.0,\"#0d0887\"],[0.1111111111111111,\"#46039f\"],[0.2222222222222222,\"#7201a8\"],[0.3333333333333333,\"#9c179e\"],[0.4444444444444444,\"#bd3786\"],[0.5555555555555556,\"#d8576b\"],[0.6666666666666666,\"#ed7953\"],[0.7777777777777778,\"#fb9f3a\"],[0.8888888888888888,\"#fdca26\"],[1.0,\"#f0f921\"]]}],\"mesh3d\":[{\"type\":\"mesh3d\",\"colorbar\":{\"outlinewidth\":0,\"ticks\":\"\"}}],\"scatter\":[{\"fillpattern\":{\"fillmode\":\"overlay\",\"size\":10,\"solidity\":0.2},\"type\":\"scatter\"}],\"parcoords\":[{\"type\":\"parcoords\",\"line\":{\"colorbar\":{\"outlinewidth\":0,\"ticks\":\"\"}}}],\"scatterpolargl\":[{\"type\":\"scatterpolargl\",\"marker\":{\"colorbar\":{\"outlinewidth\":0,\"ticks\":\"\"}}}],\"bar\":[{\"error_x\":{\"color\":\"#2a3f5f\"},\"error_y\":{\"color\":\"#2a3f5f\"},\"marker\":{\"line\":{\"color\":\"#E5ECF6\",\"width\":0.5},\"pattern\":{\"fillmode\":\"overlay\",\"size\":10,\"solidity\":0.2}},\"type\":\"bar\"}],\"scattergeo\":[{\"type\":\"scattergeo\",\"marker\":{\"colorbar\":{\"outlinewidth\":0,\"ticks\":\"\"}}}],\"scatterpolar\":[{\"type\":\"scatterpolar\",\"marker\":{\"colorbar\":{\"outlinewidth\":0,\"ticks\":\"\"}}}],\"histogram\":[{\"marker\":{\"pattern\":{\"fillmode\":\"overlay\",\"size\":10,\"solidity\":0.2}},\"type\":\"histogram\"}],\"scattergl\":[{\"type\":\"scattergl\",\"marker\":{\"colorbar\":{\"outlinewidth\":0,\"ticks\":\"\"}}}],\"scatter3d\":[{\"type\":\"scatter3d\",\"line\":{\"colorbar\":{\"outlinewidth\":0,\"ticks\":\"\"}},\"marker\":{\"colorbar\":{\"outlinewidth\":0,\"ticks\":\"\"}}}],\"scattermapbox\":[{\"type\":\"scattermapbox\",\"marker\":{\"colorbar\":{\"outlinewidth\":0,\"ticks\":\"\"}}}],\"scatterternary\":[{\"type\":\"scatterternary\",\"marker\":{\"colorbar\":{\"outlinewidth\":0,\"ticks\":\"\"}}}],\"scattercarpet\":[{\"type\":\"scattercarpet\",\"marker\":{\"colorbar\":{\"outlinewidth\":0,\"ticks\":\"\"}}}],\"carpet\":[{\"aaxis\":{\"endlinecolor\":\"#2a3f5f\",\"gridcolor\":\"white\",\"linecolor\":\"white\",\"minorgridcolor\":\"white\",\"startlinecolor\":\"#2a3f5f\"},\"baxis\":{\"endlinecolor\":\"#2a3f5f\",\"gridcolor\":\"white\",\"linecolor\":\"white\",\"minorgridcolor\":\"white\",\"startlinecolor\":\"#2a3f5f\"},\"type\":\"carpet\"}],\"table\":[{\"cells\":{\"fill\":{\"color\":\"#EBF0F8\"},\"line\":{\"color\":\"white\"}},\"header\":{\"fill\":{\"color\":\"#C8D4E3\"},\"line\":{\"color\":\"white\"}},\"type\":\"table\"}],\"barpolar\":[{\"marker\":{\"line\":{\"color\":\"#E5ECF6\",\"width\":0.5},\"pattern\":{\"fillmode\":\"overlay\",\"size\":10,\"solidity\":0.2}},\"type\":\"barpolar\"}],\"pie\":[{\"automargin\":true,\"type\":\"pie\"}]},\"layout\":{\"autotypenumbers\":\"strict\",\"colorway\":[\"#636efa\",\"#EF553B\",\"#00cc96\",\"#ab63fa\",\"#FFA15A\",\"#19d3f3\",\"#FF6692\",\"#B6E880\",\"#FF97FF\",\"#FECB52\"],\"font\":{\"color\":\"#2a3f5f\"},\"hovermode\":\"closest\",\"hoverlabel\":{\"align\":\"left\"},\"paper_bgcolor\":\"white\",\"plot_bgcolor\":\"#E5ECF6\",\"polar\":{\"bgcolor\":\"#E5ECF6\",\"angularaxis\":{\"gridcolor\":\"white\",\"linecolor\":\"white\",\"ticks\":\"\"},\"radialaxis\":{\"gridcolor\":\"white\",\"linecolor\":\"white\",\"ticks\":\"\"}},\"ternary\":{\"bgcolor\":\"#E5ECF6\",\"aaxis\":{\"gridcolor\":\"white\",\"linecolor\":\"white\",\"ticks\":\"\"},\"baxis\":{\"gridcolor\":\"white\",\"linecolor\":\"white\",\"ticks\":\"\"},\"caxis\":{\"gridcolor\":\"white\",\"linecolor\":\"white\",\"ticks\":\"\"}},\"coloraxis\":{\"colorbar\":{\"outlinewidth\":0,\"ticks\":\"\"}},\"colorscale\":{\"sequential\":[[0.0,\"#0d0887\"],[0.1111111111111111,\"#46039f\"],[0.2222222222222222,\"#7201a8\"],[0.3333333333333333,\"#9c179e\"],[0.4444444444444444,\"#bd3786\"],[0.5555555555555556,\"#d8576b\"],[0.6666666666666666,\"#ed7953\"],[0.7777777777777778,\"#fb9f3a\"],[0.8888888888888888,\"#fdca26\"],[1.0,\"#f0f921\"]],\"sequentialminus\":[[0.0,\"#0d0887\"],[0.1111111111111111,\"#46039f\"],[0.2222222222222222,\"#7201a8\"],[0.3333333333333333,\"#9c179e\"],[0.4444444444444444,\"#bd3786\"],[0.5555555555555556,\"#d8576b\"],[0.6666666666666666,\"#ed7953\"],[0.7777777777777778,\"#fb9f3a\"],[0.8888888888888888,\"#fdca26\"],[1.0,\"#f0f921\"]],\"diverging\":[[0,\"#8e0152\"],[0.1,\"#c51b7d\"],[0.2,\"#de77ae\"],[0.3,\"#f1b6da\"],[0.4,\"#fde0ef\"],[0.5,\"#f7f7f7\"],[0.6,\"#e6f5d0\"],[0.7,\"#b8e186\"],[0.8,\"#7fbc41\"],[0.9,\"#4d9221\"],[1,\"#276419\"]]},\"xaxis\":{\"gridcolor\":\"white\",\"linecolor\":\"white\",\"ticks\":\"\",\"title\":{\"standoff\":15},\"zerolinecolor\":\"white\",\"automargin\":true,\"zerolinewidth\":2},\"yaxis\":{\"gridcolor\":\"white\",\"linecolor\":\"white\",\"ticks\":\"\",\"title\":{\"standoff\":15},\"zerolinecolor\":\"white\",\"automargin\":true,\"zerolinewidth\":2},\"scene\":{\"xaxis\":{\"backgroundcolor\":\"#E5ECF6\",\"gridcolor\":\"white\",\"linecolor\":\"white\",\"showbackground\":true,\"ticks\":\"\",\"zerolinecolor\":\"white\",\"gridwidth\":2},\"yaxis\":{\"backgroundcolor\":\"#E5ECF6\",\"gridcolor\":\"white\",\"linecolor\":\"white\",\"showbackground\":true,\"ticks\":\"\",\"zerolinecolor\":\"white\",\"gridwidth\":2},\"zaxis\":{\"backgroundcolor\":\"#E5ECF6\",\"gridcolor\":\"white\",\"linecolor\":\"white\",\"showbackground\":true,\"ticks\":\"\",\"zerolinecolor\":\"white\",\"gridwidth\":2}},\"shapedefaults\":{\"line\":{\"color\":\"#2a3f5f\"}},\"annotationdefaults\":{\"arrowcolor\":\"#2a3f5f\",\"arrowhead\":0,\"arrowwidth\":1},\"geo\":{\"bgcolor\":\"white\",\"landcolor\":\"#E5ECF6\",\"subunitcolor\":\"white\",\"showland\":true,\"showlakes\":true,\"lakecolor\":\"white\"},\"title\":{\"x\":0.05},\"mapbox\":{\"style\":\"light\"}}},\"xaxis\":{\"anchor\":\"y\",\"domain\":[0.0,1.0],\"title\":{\"text\":\"Class\"},\"categoryorder\":\"array\",\"categoryarray\":[false,true]},\"yaxis\":{\"anchor\":\"x\",\"domain\":[0.0,1.0],\"title\":{\"text\":\"Transactions\"}},\"legend\":{\"title\":{\"text\":\"Classified as a fraud\"},\"tracegroupgap\":0},\"margin\":{\"t\":60},\"barmode\":\"relative\",\"font\":{\"family\":\"Arial\",\"size\":12,\"color\":\"Black\"},\"title\":{\"text\":\"Spread of credit card frauds\"}},                        {\"responsive\": true}                    ).then(function(){\n",
       "                            \n",
       "var gd = document.getElementById('92d544bb-4007-4db7-bf92-a3278f232fae');\n",
       "var x = new MutationObserver(function (mutations, observer) {{\n",
       "        var display = window.getComputedStyle(gd).display;\n",
       "        if (!display || display === 'none') {{\n",
       "            console.log([gd, 'removed!']);\n",
       "            Plotly.purge(gd);\n",
       "            observer.disconnect();\n",
       "        }}\n",
       "}});\n",
       "\n",
       "// Listen for the removal of the full notebook cells\n",
       "var notebookContainer = gd.closest('#notebook-container');\n",
       "if (notebookContainer) {{\n",
       "    x.observe(notebookContainer, {childList: true});\n",
       "}}\n",
       "\n",
       "// Listen for the clearing of the current output cell\n",
       "var outputEl = gd.closest('.output');\n",
       "if (outputEl) {{\n",
       "    x.observe(outputEl, {childList: true});\n",
       "}}\n",
       "\n",
       "                        })                };                });            </script>        </div>"
      ]
     },
     "metadata": {},
     "output_type": "display_data"
    }
   ],
   "source": [
    "fig = px.bar(df2,\n",
    "             y=df_data.groupby([\"Class\"]).size(),labels={'true': \"hello\", 'false': \"hi\"},\n",
    "             x=\"Class\",\n",
    "             color='Class',)\n",
    "\n",
    "fig.update_layout(\n",
    "    title=\"Spread of credit card frauds\",\n",
    "    xaxis_title=\"Class\",\n",
    "    yaxis_title=\"Transactions\",\n",
    "    legend_title=\"Classified as a fraud\",\n",
    "    font=dict(\n",
    "        family=\"Arial\",\n",
    "        size=12,\n",
    "        color=\"Black\"),\n",
    "    \n",
    ")\n",
    "fig.show()"
   ]
  },
  {
   "cell_type": "code",
   "execution_count": 36,
   "id": "59570925-d589-48d0-8a77-a9be14902f65",
   "metadata": {},
   "outputs": [
    {
     "name": "stdout",
     "output_type": "stream",
     "text": [
      "First 2 samples: [[-1.35980713e+00 -7.27811733e-02  2.53634674e+00  1.37815522e+00\n",
      "  -3.38320770e-01  4.62387778e-01  2.39598554e-01  9.86979013e-02\n",
      "   3.63786970e-01  9.07941720e-02 -5.51599533e-01 -6.17800856e-01\n",
      "  -9.91389847e-01 -3.11169354e-01  1.46817697e+00 -4.70400525e-01\n",
      "   2.07971242e-01  2.57905802e-02  4.03992960e-01  2.51412098e-01\n",
      "  -1.83067779e-02  2.77837576e-01 -1.10473910e-01  6.69280749e-02\n",
      "   1.28539358e-01 -1.89114844e-01  1.33558377e-01 -2.10530535e-02\n",
      "   1.49620000e+02]\n",
      " [ 1.19185711e+00  2.66150712e-01  1.66480113e-01  4.48154078e-01\n",
      "   6.00176493e-02 -8.23608088e-02 -7.88029833e-02  8.51016549e-02\n",
      "  -2.55425128e-01 -1.66974414e-01  1.61272666e+00  1.06523531e+00\n",
      "   4.89095016e-01 -1.43772296e-01  6.35558093e-01  4.63917041e-01\n",
      "  -1.14804663e-01 -1.83361270e-01 -1.45783041e-01 -6.90831352e-02\n",
      "  -2.25775248e-01 -6.38671953e-01  1.01288021e-01 -3.39846476e-01\n",
      "   1.67170404e-01  1.25894532e-01 -8.98309914e-03  1.47241692e-02\n",
      "   2.69000000e+00]]\n",
      "First 2 labels: [False False]\n",
      "\n",
      "Train data shape: (199364, 29)\n",
      "Train data labels, label count: (array([False,  True]), array([199020,    344], dtype=int64))\n",
      "\n"
     ]
    }
   ],
   "source": [
    "# data partition using sklearn\n",
    "# reference: https://scikit-learn.org/stable/modules/generated/sklearn.model_selection.train_test_split.html\n",
    "from sklearn.model_selection import train_test_split\n",
    "\n",
    "# separation into data (X) and respective labels (y)\n",
    "X, y = df_data.iloc[:, 1:-1].values, df_data.iloc[:, -1].values  #Dropping Time because it has no effect on the output\n",
    "print('First 2 samples:', X[:2])\n",
    "print('First 2 labels:', y[:2])\n",
    "print()\n",
    "\n",
    "# split configuration\n",
    "test_size = 0.3 # data percentage going to test\n",
    "random_seed = 0 # save the seed for reproducibility\n",
    "\n",
    "# data split\n",
    "X_train, X_test, y_train, y_test =\\\n",
    "  train_test_split(X, y,\n",
    "                   random_state=random_seed,\n",
    "                   test_size=test_size,\n",
    "                   stratify=y)\n",
    "\n",
    "# train info\n",
    "print('Train data shape:', X_train.shape)\n",
    "print('Train data labels, label count:', np.unique(y_train, return_counts=True))\n",
    "print()"
   ]
  },
  {
   "cell_type": "code",
   "execution_count": 37,
   "id": "1d49fdf9-180c-4ee3-b255-ebc6f7711f94",
   "metadata": {},
   "outputs": [
    {
     "name": "stdout",
     "output_type": "stream",
     "text": [
      "Test data shape: (85443, 29)\n",
      "Test data labels, label count: (array([False,  True]), array([85295,   148], dtype=int64))\n",
      "\n"
     ]
    }
   ],
   "source": [
    "# test info\n",
    "print('Test data shape:', X_test.shape)\n",
    "print('Test data labels, label count:', np.unique(y_test, return_counts=True))\n",
    "print()"
   ]
  },
  {
   "cell_type": "code",
   "execution_count": 38,
   "id": "f52b46d5-b8c6-4ea5-883b-d9a5fe21573a",
   "metadata": {},
   "outputs": [
    {
     "data": {
      "text/html": [
       "<div>\n",
       "<style scoped>\n",
       "    .dataframe tbody tr th:only-of-type {\n",
       "        vertical-align: middle;\n",
       "    }\n",
       "\n",
       "    .dataframe tbody tr th {\n",
       "        vertical-align: top;\n",
       "    }\n",
       "\n",
       "    .dataframe thead th {\n",
       "        text-align: right;\n",
       "    }\n",
       "</style>\n",
       "<table border=\"1\" class=\"dataframe\">\n",
       "  <thead>\n",
       "    <tr style=\"text-align: right;\">\n",
       "      <th></th>\n",
       "      <th>V1</th>\n",
       "      <th>V2</th>\n",
       "      <th>V3</th>\n",
       "      <th>V4</th>\n",
       "      <th>V5</th>\n",
       "      <th>V6</th>\n",
       "      <th>V7</th>\n",
       "      <th>V8</th>\n",
       "      <th>V9</th>\n",
       "      <th>V10</th>\n",
       "      <th>...</th>\n",
       "      <th>V20</th>\n",
       "      <th>V21</th>\n",
       "      <th>V22</th>\n",
       "      <th>V23</th>\n",
       "      <th>V24</th>\n",
       "      <th>V25</th>\n",
       "      <th>V26</th>\n",
       "      <th>V27</th>\n",
       "      <th>V28</th>\n",
       "      <th>Amount</th>\n",
       "    </tr>\n",
       "  </thead>\n",
       "  <tbody>\n",
       "    <tr>\n",
       "      <th>0</th>\n",
       "      <td>-4.269455</td>\n",
       "      <td>4.463420</td>\n",
       "      <td>-3.380758</td>\n",
       "      <td>-2.098445</td>\n",
       "      <td>-0.723928</td>\n",
       "      <td>-1.255387</td>\n",
       "      <td>0.327100</td>\n",
       "      <td>0.844811</td>\n",
       "      <td>4.818257</td>\n",
       "      <td>8.573201</td>\n",
       "      <td>...</td>\n",
       "      <td>4.635419</td>\n",
       "      <td>-0.758935</td>\n",
       "      <td>0.480569</td>\n",
       "      <td>0.480316</td>\n",
       "      <td>1.092612</td>\n",
       "      <td>2.199916</td>\n",
       "      <td>-0.023007</td>\n",
       "      <td>3.772621</td>\n",
       "      <td>2.022955</td>\n",
       "      <td>-0.353164</td>\n",
       "    </tr>\n",
       "    <tr>\n",
       "      <th>1</th>\n",
       "      <td>-0.658708</td>\n",
       "      <td>0.461250</td>\n",
       "      <td>-0.112247</td>\n",
       "      <td>-1.193937</td>\n",
       "      <td>1.456020</td>\n",
       "      <td>-0.542735</td>\n",
       "      <td>1.370859</td>\n",
       "      <td>-0.193244</td>\n",
       "      <td>-0.873800</td>\n",
       "      <td>-0.625073</td>\n",
       "      <td>...</td>\n",
       "      <td>0.073719</td>\n",
       "      <td>0.186554</td>\n",
       "      <td>0.537531</td>\n",
       "      <td>-1.075827</td>\n",
       "      <td>0.481464</td>\n",
       "      <td>2.737380</td>\n",
       "      <td>0.552416</td>\n",
       "      <td>0.129259</td>\n",
       "      <td>0.313236</td>\n",
       "      <td>-0.132306</td>\n",
       "    </tr>\n",
       "    <tr>\n",
       "      <th>2</th>\n",
       "      <td>-0.309824</td>\n",
       "      <td>0.141410</td>\n",
       "      <td>1.740207</td>\n",
       "      <td>-0.109342</td>\n",
       "      <td>-0.241759</td>\n",
       "      <td>-0.053969</td>\n",
       "      <td>0.142325</td>\n",
       "      <td>0.093597</td>\n",
       "      <td>0.619073</td>\n",
       "      <td>-0.631719</td>\n",
       "      <td>...</td>\n",
       "      <td>-0.167699</td>\n",
       "      <td>0.008433</td>\n",
       "      <td>0.364616</td>\n",
       "      <td>-0.063018</td>\n",
       "      <td>0.669450</td>\n",
       "      <td>-0.958056</td>\n",
       "      <td>0.254997</td>\n",
       "      <td>-0.115515</td>\n",
       "      <td>-0.264519</td>\n",
       "      <td>-0.309581</td>\n",
       "    </tr>\n",
       "    <tr>\n",
       "      <th>3</th>\n",
       "      <td>0.700920</td>\n",
       "      <td>-0.198798</td>\n",
       "      <td>0.536968</td>\n",
       "      <td>-0.128694</td>\n",
       "      <td>-0.789142</td>\n",
       "      <td>-0.706442</td>\n",
       "      <td>-0.447246</td>\n",
       "      <td>-0.293933</td>\n",
       "      <td>0.559673</td>\n",
       "      <td>0.074184</td>\n",
       "      <td>...</td>\n",
       "      <td>0.100255</td>\n",
       "      <td>-0.184502</td>\n",
       "      <td>0.022107</td>\n",
       "      <td>0.005583</td>\n",
       "      <td>1.178810</td>\n",
       "      <td>1.029158</td>\n",
       "      <td>-0.634912</td>\n",
       "      <td>-0.007671</td>\n",
       "      <td>0.038606</td>\n",
       "      <td>-0.315628</td>\n",
       "    </tr>\n",
       "    <tr>\n",
       "      <th>4</th>\n",
       "      <td>-1.095369</td>\n",
       "      <td>-4.583312</td>\n",
       "      <td>-3.257838</td>\n",
       "      <td>1.026322</td>\n",
       "      <td>-1.529655</td>\n",
       "      <td>-0.744970</td>\n",
       "      <td>2.983724</td>\n",
       "      <td>-1.095416</td>\n",
       "      <td>-1.306463</td>\n",
       "      <td>-0.019975</td>\n",
       "      <td>...</td>\n",
       "      <td>5.177760</td>\n",
       "      <td>1.729067</td>\n",
       "      <td>-1.184376</td>\n",
       "      <td>-3.346791</td>\n",
       "      <td>0.278477</td>\n",
       "      <td>-0.620257</td>\n",
       "      <td>1.614658</td>\n",
       "      <td>-1.374750</td>\n",
       "      <td>0.920490</td>\n",
       "      <td>8.876888</td>\n",
       "    </tr>\n",
       "    <tr>\n",
       "      <th>...</th>\n",
       "      <td>...</td>\n",
       "      <td>...</td>\n",
       "      <td>...</td>\n",
       "      <td>...</td>\n",
       "      <td>...</td>\n",
       "      <td>...</td>\n",
       "      <td>...</td>\n",
       "      <td>...</td>\n",
       "      <td>...</td>\n",
       "      <td>...</td>\n",
       "      <td>...</td>\n",
       "      <td>...</td>\n",
       "      <td>...</td>\n",
       "      <td>...</td>\n",
       "      <td>...</td>\n",
       "      <td>...</td>\n",
       "      <td>...</td>\n",
       "      <td>...</td>\n",
       "      <td>...</td>\n",
       "      <td>...</td>\n",
       "      <td>...</td>\n",
       "    </tr>\n",
       "    <tr>\n",
       "      <th>199359</th>\n",
       "      <td>-1.017535</td>\n",
       "      <td>1.046357</td>\n",
       "      <td>-0.732777</td>\n",
       "      <td>-1.889719</td>\n",
       "      <td>1.177603</td>\n",
       "      <td>2.298776</td>\n",
       "      <td>-0.343292</td>\n",
       "      <td>1.205583</td>\n",
       "      <td>0.860678</td>\n",
       "      <td>0.936270</td>\n",
       "      <td>...</td>\n",
       "      <td>1.001235</td>\n",
       "      <td>-0.413618</td>\n",
       "      <td>-0.978153</td>\n",
       "      <td>0.076208</td>\n",
       "      <td>1.664131</td>\n",
       "      <td>0.449674</td>\n",
       "      <td>1.595505</td>\n",
       "      <td>1.739300</td>\n",
       "      <td>1.070917</td>\n",
       "      <td>-0.296155</td>\n",
       "    </tr>\n",
       "    <tr>\n",
       "      <th>199360</th>\n",
       "      <td>-0.224892</td>\n",
       "      <td>0.641188</td>\n",
       "      <td>1.045424</td>\n",
       "      <td>-0.020182</td>\n",
       "      <td>0.029626</td>\n",
       "      <td>-0.683644</td>\n",
       "      <td>0.600415</td>\n",
       "      <td>-0.092406</td>\n",
       "      <td>-0.467701</td>\n",
       "      <td>-0.304952</td>\n",
       "      <td>...</td>\n",
       "      <td>0.204350</td>\n",
       "      <td>-0.294522</td>\n",
       "      <td>-0.735363</td>\n",
       "      <td>-0.037860</td>\n",
       "      <td>0.630630</td>\n",
       "      <td>-0.316380</td>\n",
       "      <td>0.145111</td>\n",
       "      <td>0.671751</td>\n",
       "      <td>0.372492</td>\n",
       "      <td>-0.345544</td>\n",
       "    </tr>\n",
       "    <tr>\n",
       "      <th>199361</th>\n",
       "      <td>0.422167</td>\n",
       "      <td>-1.596828</td>\n",
       "      <td>-2.089896</td>\n",
       "      <td>0.148915</td>\n",
       "      <td>-0.412362</td>\n",
       "      <td>-1.187635</td>\n",
       "      <td>1.325565</td>\n",
       "      <td>-0.782496</td>\n",
       "      <td>-1.201196</td>\n",
       "      <td>0.629954</td>\n",
       "      <td>...</td>\n",
       "      <td>1.152169</td>\n",
       "      <td>0.473373</td>\n",
       "      <td>0.002068</td>\n",
       "      <td>-1.183629</td>\n",
       "      <td>0.282622</td>\n",
       "      <td>0.475044</td>\n",
       "      <td>1.943675</td>\n",
       "      <td>-0.642025</td>\n",
       "      <td>0.113703</td>\n",
       "      <td>2.659940</td>\n",
       "    </tr>\n",
       "    <tr>\n",
       "      <th>199362</th>\n",
       "      <td>-0.777710</td>\n",
       "      <td>-3.789902</td>\n",
       "      <td>-1.744212</td>\n",
       "      <td>0.942005</td>\n",
       "      <td>-1.227412</td>\n",
       "      <td>1.479036</td>\n",
       "      <td>1.117355</td>\n",
       "      <td>0.067013</td>\n",
       "      <td>0.685559</td>\n",
       "      <td>-0.646136</td>\n",
       "      <td>...</td>\n",
       "      <td>4.260240</td>\n",
       "      <td>1.802558</td>\n",
       "      <td>0.000608</td>\n",
       "      <td>-2.157282</td>\n",
       "      <td>-2.491011</td>\n",
       "      <td>-2.273466</td>\n",
       "      <td>1.200636</td>\n",
       "      <td>-0.817407</td>\n",
       "      <td>0.694265</td>\n",
       "      <td>6.786241</td>\n",
       "    </tr>\n",
       "    <tr>\n",
       "      <th>199363</th>\n",
       "      <td>-0.820903</td>\n",
       "      <td>0.080413</td>\n",
       "      <td>1.371800</td>\n",
       "      <td>-1.369993</td>\n",
       "      <td>-1.337709</td>\n",
       "      <td>-0.325388</td>\n",
       "      <td>0.203167</td>\n",
       "      <td>0.572988</td>\n",
       "      <td>1.071995</td>\n",
       "      <td>-1.899195</td>\n",
       "      <td>...</td>\n",
       "      <td>0.239815</td>\n",
       "      <td>0.629835</td>\n",
       "      <td>1.402464</td>\n",
       "      <td>0.276764</td>\n",
       "      <td>0.940313</td>\n",
       "      <td>0.968528</td>\n",
       "      <td>-1.365278</td>\n",
       "      <td>0.437343</td>\n",
       "      <td>0.277447</td>\n",
       "      <td>0.417338</td>\n",
       "    </tr>\n",
       "  </tbody>\n",
       "</table>\n",
       "<p>199364 rows × 29 columns</p>\n",
       "</div>"
      ],
      "text/plain": [
       "              V1        V2        V3        V4        V5        V6        V7  \\\n",
       "0      -4.269455  4.463420 -3.380758 -2.098445 -0.723928 -1.255387  0.327100   \n",
       "1      -0.658708  0.461250 -0.112247 -1.193937  1.456020 -0.542735  1.370859   \n",
       "2      -0.309824  0.141410  1.740207 -0.109342 -0.241759 -0.053969  0.142325   \n",
       "3       0.700920 -0.198798  0.536968 -0.128694 -0.789142 -0.706442 -0.447246   \n",
       "4      -1.095369 -4.583312 -3.257838  1.026322 -1.529655 -0.744970  2.983724   \n",
       "...          ...       ...       ...       ...       ...       ...       ...   \n",
       "199359 -1.017535  1.046357 -0.732777 -1.889719  1.177603  2.298776 -0.343292   \n",
       "199360 -0.224892  0.641188  1.045424 -0.020182  0.029626 -0.683644  0.600415   \n",
       "199361  0.422167 -1.596828 -2.089896  0.148915 -0.412362 -1.187635  1.325565   \n",
       "199362 -0.777710 -3.789902 -1.744212  0.942005 -1.227412  1.479036  1.117355   \n",
       "199363 -0.820903  0.080413  1.371800 -1.369993 -1.337709 -0.325388  0.203167   \n",
       "\n",
       "              V8        V9       V10  ...       V20       V21       V22  \\\n",
       "0       0.844811  4.818257  8.573201  ...  4.635419 -0.758935  0.480569   \n",
       "1      -0.193244 -0.873800 -0.625073  ...  0.073719  0.186554  0.537531   \n",
       "2       0.093597  0.619073 -0.631719  ... -0.167699  0.008433  0.364616   \n",
       "3      -0.293933  0.559673  0.074184  ...  0.100255 -0.184502  0.022107   \n",
       "4      -1.095416 -1.306463 -0.019975  ...  5.177760  1.729067 -1.184376   \n",
       "...          ...       ...       ...  ...       ...       ...       ...   \n",
       "199359  1.205583  0.860678  0.936270  ...  1.001235 -0.413618 -0.978153   \n",
       "199360 -0.092406 -0.467701 -0.304952  ...  0.204350 -0.294522 -0.735363   \n",
       "199361 -0.782496 -1.201196  0.629954  ...  1.152169  0.473373  0.002068   \n",
       "199362  0.067013  0.685559 -0.646136  ...  4.260240  1.802558  0.000608   \n",
       "199363  0.572988  1.071995 -1.899195  ...  0.239815  0.629835  1.402464   \n",
       "\n",
       "             V23       V24       V25       V26       V27       V28    Amount  \n",
       "0       0.480316  1.092612  2.199916 -0.023007  3.772621  2.022955 -0.353164  \n",
       "1      -1.075827  0.481464  2.737380  0.552416  0.129259  0.313236 -0.132306  \n",
       "2      -0.063018  0.669450 -0.958056  0.254997 -0.115515 -0.264519 -0.309581  \n",
       "3       0.005583  1.178810  1.029158 -0.634912 -0.007671  0.038606 -0.315628  \n",
       "4      -3.346791  0.278477 -0.620257  1.614658 -1.374750  0.920490  8.876888  \n",
       "...          ...       ...       ...       ...       ...       ...       ...  \n",
       "199359  0.076208  1.664131  0.449674  1.595505  1.739300  1.070917 -0.296155  \n",
       "199360 -0.037860  0.630630 -0.316380  0.145111  0.671751  0.372492 -0.345544  \n",
       "199361 -1.183629  0.282622  0.475044  1.943675 -0.642025  0.113703  2.659940  \n",
       "199362 -2.157282 -2.491011 -2.273466  1.200636 -0.817407  0.694265  6.786241  \n",
       "199363  0.276764  0.940313  0.968528 -1.365278  0.437343  0.277447  0.417338  \n",
       "\n",
       "[199364 rows x 29 columns]"
      ]
     },
     "execution_count": 38,
     "metadata": {},
     "output_type": "execute_result"
    }
   ],
   "source": [
    "# Data Normalisation\n",
    "# sklearn implementation\n",
    "from sklearn.preprocessing import StandardScaler\n",
    "\n",
    "# scaler object\n",
    "scaler = StandardScaler()\n",
    "\n",
    "# train data\n",
    "X_train_norm = scaler.fit_transform(X_train) # use fit only on the train set!\n",
    "\n",
    "df_X_train = pd.DataFrame(X_train_norm)\n",
    "df_X_train.columns = list(df_data.columns[1:-1])\n",
    "\n",
    "df_X_train"
   ]
  },
  {
   "cell_type": "code",
   "execution_count": 39,
   "id": "57b7f260-abf6-4358-9c75-b2ceb21a7c0a",
   "metadata": {},
   "outputs": [
    {
     "data": {
      "text/html": [
       "<div>\n",
       "<style scoped>\n",
       "    .dataframe tbody tr th:only-of-type {\n",
       "        vertical-align: middle;\n",
       "    }\n",
       "\n",
       "    .dataframe tbody tr th {\n",
       "        vertical-align: top;\n",
       "    }\n",
       "\n",
       "    .dataframe thead th {\n",
       "        text-align: right;\n",
       "    }\n",
       "</style>\n",
       "<table border=\"1\" class=\"dataframe\">\n",
       "  <thead>\n",
       "    <tr style=\"text-align: right;\">\n",
       "      <th></th>\n",
       "      <th>V1</th>\n",
       "      <th>V2</th>\n",
       "      <th>V3</th>\n",
       "      <th>V4</th>\n",
       "      <th>V5</th>\n",
       "      <th>V6</th>\n",
       "      <th>V7</th>\n",
       "      <th>V8</th>\n",
       "      <th>V9</th>\n",
       "      <th>V10</th>\n",
       "      <th>...</th>\n",
       "      <th>V20</th>\n",
       "      <th>V21</th>\n",
       "      <th>V22</th>\n",
       "      <th>V23</th>\n",
       "      <th>V24</th>\n",
       "      <th>V25</th>\n",
       "      <th>V26</th>\n",
       "      <th>V27</th>\n",
       "      <th>V28</th>\n",
       "      <th>Amount</th>\n",
       "    </tr>\n",
       "  </thead>\n",
       "  <tbody>\n",
       "    <tr>\n",
       "      <th>0</th>\n",
       "      <td>0.051506</td>\n",
       "      <td>0.401781</td>\n",
       "      <td>-0.340242</td>\n",
       "      <td>-0.477290</td>\n",
       "      <td>0.797975</td>\n",
       "      <td>-0.515962</td>\n",
       "      <td>0.721242</td>\n",
       "      <td>-0.082484</td>\n",
       "      <td>0.241274</td>\n",
       "      <td>-1.194182</td>\n",
       "      <td>...</td>\n",
       "      <td>-0.230254</td>\n",
       "      <td>0.153409</td>\n",
       "      <td>0.689599</td>\n",
       "      <td>-0.104369</td>\n",
       "      <td>0.921508</td>\n",
       "      <td>-0.995006</td>\n",
       "      <td>0.763275</td>\n",
       "      <td>0.199772</td>\n",
       "      <td>0.397263</td>\n",
       "      <td>-0.305549</td>\n",
       "    </tr>\n",
       "    <tr>\n",
       "      <th>1</th>\n",
       "      <td>-0.856440</td>\n",
       "      <td>0.750834</td>\n",
       "      <td>0.626136</td>\n",
       "      <td>-1.485875</td>\n",
       "      <td>-0.595589</td>\n",
       "      <td>-0.784794</td>\n",
       "      <td>0.119014</td>\n",
       "      <td>0.388838</td>\n",
       "      <td>-1.036135</td>\n",
       "      <td>0.779897</td>\n",
       "      <td>...</td>\n",
       "      <td>-0.319031</td>\n",
       "      <td>-0.522232</td>\n",
       "      <td>-0.803295</td>\n",
       "      <td>0.054034</td>\n",
       "      <td>0.797822</td>\n",
       "      <td>-0.075742</td>\n",
       "      <td>0.165105</td>\n",
       "      <td>1.212995</td>\n",
       "      <td>0.879519</td>\n",
       "      <td>-0.315628</td>\n",
       "    </tr>\n",
       "    <tr>\n",
       "      <th>2</th>\n",
       "      <td>-0.718574</td>\n",
       "      <td>-0.056722</td>\n",
       "      <td>0.804922</td>\n",
       "      <td>-1.332698</td>\n",
       "      <td>0.468496</td>\n",
       "      <td>-0.853093</td>\n",
       "      <td>0.441889</td>\n",
       "      <td>-0.250059</td>\n",
       "      <td>-1.521539</td>\n",
       "      <td>0.020665</td>\n",
       "      <td>...</td>\n",
       "      <td>-0.164731</td>\n",
       "      <td>0.399230</td>\n",
       "      <td>1.153637</td>\n",
       "      <td>-0.581471</td>\n",
       "      <td>0.258858</td>\n",
       "      <td>1.614022</td>\n",
       "      <td>-0.329789</td>\n",
       "      <td>-0.524169</td>\n",
       "      <td>0.312936</td>\n",
       "      <td>-0.235195</td>\n",
       "    </tr>\n",
       "    <tr>\n",
       "      <th>3</th>\n",
       "      <td>1.033065</td>\n",
       "      <td>-0.603562</td>\n",
       "      <td>-0.565570</td>\n",
       "      <td>-0.357545</td>\n",
       "      <td>-0.583012</td>\n",
       "      <td>-0.150173</td>\n",
       "      <td>-0.640862</td>\n",
       "      <td>0.025736</td>\n",
       "      <td>-0.325517</td>\n",
       "      <td>0.934306</td>\n",
       "      <td>...</td>\n",
       "      <td>-0.671073</td>\n",
       "      <td>-0.407330</td>\n",
       "      <td>-0.590771</td>\n",
       "      <td>0.474538</td>\n",
       "      <td>1.233651</td>\n",
       "      <td>-0.819208</td>\n",
       "      <td>1.039842</td>\n",
       "      <td>-0.128101</td>\n",
       "      <td>-0.146873</td>\n",
       "      <td>-0.153271</td>\n",
       "    </tr>\n",
       "    <tr>\n",
       "      <th>4</th>\n",
       "      <td>0.243210</td>\n",
       "      <td>-0.780348</td>\n",
       "      <td>0.387353</td>\n",
       "      <td>1.132676</td>\n",
       "      <td>-0.892531</td>\n",
       "      <td>0.086210</td>\n",
       "      <td>-0.146356</td>\n",
       "      <td>0.074010</td>\n",
       "      <td>0.859899</td>\n",
       "      <td>-0.190410</td>\n",
       "      <td>...</td>\n",
       "      <td>0.701300</td>\n",
       "      <td>0.405293</td>\n",
       "      <td>0.157586</td>\n",
       "      <td>-0.730830</td>\n",
       "      <td>-0.203205</td>\n",
       "      <td>0.732426</td>\n",
       "      <td>-0.507300</td>\n",
       "      <td>-0.033136</td>\n",
       "      <td>0.279285</td>\n",
       "      <td>1.176107</td>\n",
       "    </tr>\n",
       "    <tr>\n",
       "      <th>...</th>\n",
       "      <td>...</td>\n",
       "      <td>...</td>\n",
       "      <td>...</td>\n",
       "      <td>...</td>\n",
       "      <td>...</td>\n",
       "      <td>...</td>\n",
       "      <td>...</td>\n",
       "      <td>...</td>\n",
       "      <td>...</td>\n",
       "      <td>...</td>\n",
       "      <td>...</td>\n",
       "      <td>...</td>\n",
       "      <td>...</td>\n",
       "      <td>...</td>\n",
       "      <td>...</td>\n",
       "      <td>...</td>\n",
       "      <td>...</td>\n",
       "      <td>...</td>\n",
       "      <td>...</td>\n",
       "      <td>...</td>\n",
       "      <td>...</td>\n",
       "    </tr>\n",
       "    <tr>\n",
       "      <th>85438</th>\n",
       "      <td>-0.147842</td>\n",
       "      <td>0.678808</td>\n",
       "      <td>0.955513</td>\n",
       "      <td>0.316640</td>\n",
       "      <td>0.150051</td>\n",
       "      <td>-0.658271</td>\n",
       "      <td>0.589115</td>\n",
       "      <td>-0.165679</td>\n",
       "      <td>-0.751879</td>\n",
       "      <td>-0.528731</td>\n",
       "      <td>...</td>\n",
       "      <td>0.195896</td>\n",
       "      <td>-0.212654</td>\n",
       "      <td>-0.559506</td>\n",
       "      <td>-0.004041</td>\n",
       "      <td>0.632848</td>\n",
       "      <td>-1.018787</td>\n",
       "      <td>0.235843</td>\n",
       "      <td>0.308174</td>\n",
       "      <td>0.482095</td>\n",
       "      <td>-0.352357</td>\n",
       "    </tr>\n",
       "    <tr>\n",
       "      <th>85439</th>\n",
       "      <td>-0.380094</td>\n",
       "      <td>0.690015</td>\n",
       "      <td>0.735439</td>\n",
       "      <td>0.753918</td>\n",
       "      <td>-0.199596</td>\n",
       "      <td>-0.137941</td>\n",
       "      <td>0.118436</td>\n",
       "      <td>0.406207</td>\n",
       "      <td>-0.086357</td>\n",
       "      <td>-0.412062</td>\n",
       "      <td>...</td>\n",
       "      <td>0.058894</td>\n",
       "      <td>0.051940</td>\n",
       "      <td>0.471424</td>\n",
       "      <td>-0.291200</td>\n",
       "      <td>0.098860</td>\n",
       "      <td>0.023651</td>\n",
       "      <td>-0.492124</td>\n",
       "      <td>0.766885</td>\n",
       "      <td>0.428679</td>\n",
       "      <td>-0.308089</td>\n",
       "    </tr>\n",
       "    <tr>\n",
       "      <th>85440</th>\n",
       "      <td>1.024109</td>\n",
       "      <td>-0.008493</td>\n",
       "      <td>-0.567092</td>\n",
       "      <td>1.291812</td>\n",
       "      <td>0.137776</td>\n",
       "      <td>0.041150</td>\n",
       "      <td>-0.115412</td>\n",
       "      <td>-0.044551</td>\n",
       "      <td>-0.588896</td>\n",
       "      <td>1.133129</td>\n",
       "      <td>...</td>\n",
       "      <td>-0.168580</td>\n",
       "      <td>0.017389</td>\n",
       "      <td>0.288318</td>\n",
       "      <td>0.172672</td>\n",
       "      <td>-0.582335</td>\n",
       "      <td>-0.566001</td>\n",
       "      <td>4.868246</td>\n",
       "      <td>-0.489132</td>\n",
       "      <td>-0.301340</td>\n",
       "      <td>-0.340665</td>\n",
       "    </tr>\n",
       "    <tr>\n",
       "      <th>85441</th>\n",
       "      <td>0.550802</td>\n",
       "      <td>-0.094160</td>\n",
       "      <td>0.851128</td>\n",
       "      <td>0.826470</td>\n",
       "      <td>-0.674679</td>\n",
       "      <td>0.264303</td>\n",
       "      <td>-0.676702</td>\n",
       "      <td>0.334740</td>\n",
       "      <td>0.619683</td>\n",
       "      <td>0.023756</td>\n",
       "      <td>...</td>\n",
       "      <td>-0.319142</td>\n",
       "      <td>0.270673</td>\n",
       "      <td>0.982292</td>\n",
       "      <td>-0.046425</td>\n",
       "      <td>0.344515</td>\n",
       "      <td>0.661540</td>\n",
       "      <td>-0.523812</td>\n",
       "      <td>0.189770</td>\n",
       "      <td>0.061993</td>\n",
       "      <td>-0.355663</td>\n",
       "    </tr>\n",
       "    <tr>\n",
       "      <th>85442</th>\n",
       "      <td>1.134219</td>\n",
       "      <td>-0.381214</td>\n",
       "      <td>-0.856727</td>\n",
       "      <td>-0.614830</td>\n",
       "      <td>-0.422681</td>\n",
       "      <td>-1.083463</td>\n",
       "      <td>-0.210775</td>\n",
       "      <td>-0.399176</td>\n",
       "      <td>-0.575761</td>\n",
       "      <td>0.792424</td>\n",
       "      <td>...</td>\n",
       "      <td>0.011174</td>\n",
       "      <td>0.597812</td>\n",
       "      <td>1.832193</td>\n",
       "      <td>-0.031801</td>\n",
       "      <td>0.206731</td>\n",
       "      <td>0.430895</td>\n",
       "      <td>0.134538</td>\n",
       "      <td>-0.085802</td>\n",
       "      <td>-0.193894</td>\n",
       "      <td>-0.295470</td>\n",
       "    </tr>\n",
       "  </tbody>\n",
       "</table>\n",
       "<p>85443 rows × 29 columns</p>\n",
       "</div>"
      ],
      "text/plain": [
       "             V1        V2        V3        V4        V5        V6        V7  \\\n",
       "0      0.051506  0.401781 -0.340242 -0.477290  0.797975 -0.515962  0.721242   \n",
       "1     -0.856440  0.750834  0.626136 -1.485875 -0.595589 -0.784794  0.119014   \n",
       "2     -0.718574 -0.056722  0.804922 -1.332698  0.468496 -0.853093  0.441889   \n",
       "3      1.033065 -0.603562 -0.565570 -0.357545 -0.583012 -0.150173 -0.640862   \n",
       "4      0.243210 -0.780348  0.387353  1.132676 -0.892531  0.086210 -0.146356   \n",
       "...         ...       ...       ...       ...       ...       ...       ...   \n",
       "85438 -0.147842  0.678808  0.955513  0.316640  0.150051 -0.658271  0.589115   \n",
       "85439 -0.380094  0.690015  0.735439  0.753918 -0.199596 -0.137941  0.118436   \n",
       "85440  1.024109 -0.008493 -0.567092  1.291812  0.137776  0.041150 -0.115412   \n",
       "85441  0.550802 -0.094160  0.851128  0.826470 -0.674679  0.264303 -0.676702   \n",
       "85442  1.134219 -0.381214 -0.856727 -0.614830 -0.422681 -1.083463 -0.210775   \n",
       "\n",
       "             V8        V9       V10  ...       V20       V21       V22  \\\n",
       "0     -0.082484  0.241274 -1.194182  ... -0.230254  0.153409  0.689599   \n",
       "1      0.388838 -1.036135  0.779897  ... -0.319031 -0.522232 -0.803295   \n",
       "2     -0.250059 -1.521539  0.020665  ... -0.164731  0.399230  1.153637   \n",
       "3      0.025736 -0.325517  0.934306  ... -0.671073 -0.407330 -0.590771   \n",
       "4      0.074010  0.859899 -0.190410  ...  0.701300  0.405293  0.157586   \n",
       "...         ...       ...       ...  ...       ...       ...       ...   \n",
       "85438 -0.165679 -0.751879 -0.528731  ...  0.195896 -0.212654 -0.559506   \n",
       "85439  0.406207 -0.086357 -0.412062  ...  0.058894  0.051940  0.471424   \n",
       "85440 -0.044551 -0.588896  1.133129  ... -0.168580  0.017389  0.288318   \n",
       "85441  0.334740  0.619683  0.023756  ... -0.319142  0.270673  0.982292   \n",
       "85442 -0.399176 -0.575761  0.792424  ...  0.011174  0.597812  1.832193   \n",
       "\n",
       "            V23       V24       V25       V26       V27       V28    Amount  \n",
       "0     -0.104369  0.921508 -0.995006  0.763275  0.199772  0.397263 -0.305549  \n",
       "1      0.054034  0.797822 -0.075742  0.165105  1.212995  0.879519 -0.315628  \n",
       "2     -0.581471  0.258858  1.614022 -0.329789 -0.524169  0.312936 -0.235195  \n",
       "3      0.474538  1.233651 -0.819208  1.039842 -0.128101 -0.146873 -0.153271  \n",
       "4     -0.730830 -0.203205  0.732426 -0.507300 -0.033136  0.279285  1.176107  \n",
       "...         ...       ...       ...       ...       ...       ...       ...  \n",
       "85438 -0.004041  0.632848 -1.018787  0.235843  0.308174  0.482095 -0.352357  \n",
       "85439 -0.291200  0.098860  0.023651 -0.492124  0.766885  0.428679 -0.308089  \n",
       "85440  0.172672 -0.582335 -0.566001  4.868246 -0.489132 -0.301340 -0.340665  \n",
       "85441 -0.046425  0.344515  0.661540 -0.523812  0.189770  0.061993 -0.355663  \n",
       "85442 -0.031801  0.206731  0.430895  0.134538 -0.085802 -0.193894 -0.295470  \n",
       "\n",
       "[85443 rows x 29 columns]"
      ]
     },
     "execution_count": 39,
     "metadata": {},
     "output_type": "execute_result"
    }
   ],
   "source": [
    "# test data\n",
    "X_test_norm = scaler.transform(X_test) # don't use fit on the test set!\n",
    "\n",
    "df_X_test = pd.DataFrame(X_test_norm)\n",
    "df_X_test.columns = list(df_data.columns[1:-1])\n",
    "\n",
    "df_X_test"
   ]
  },
  {
   "cell_type": "code",
   "execution_count": 40,
   "id": "d2afba4f-e180-494b-8154-3f6abe9f6683",
   "metadata": {},
   "outputs": [
    {
     "name": "stdout",
     "output_type": "stream",
     "text": [
      "Test data shape: (85443, 29)\n",
      "Test data labels, label count: (array([False,  True]), array([85295,   148], dtype=int64))\n",
      "\n"
     ]
    }
   ],
   "source": [
    "# test info\n",
    "print('Test data shape:', df_X_test.shape)\n",
    "print('Test data labels, label count:', np.unique(y_test, return_counts=True))\n",
    "print()"
   ]
  },
  {
   "cell_type": "code",
   "execution_count": 41,
   "id": "caf36839-9bbf-4410-bbf6-3c2b995fbfb5",
   "metadata": {},
   "outputs": [
    {
     "name": "stdout",
     "output_type": "stream",
     "text": [
      "Train data shape: (199364, 29)\n",
      "Train data labels, label count: (array([False,  True]), array([199020,    344], dtype=int64))\n",
      "\n"
     ]
    }
   ],
   "source": [
    "# train info\n",
    "print('Train data shape:', df_X_train.shape)\n",
    "print('Train data labels, label count:', np.unique(y_train, return_counts=True))\n",
    "print()"
   ]
  },
  {
   "cell_type": "raw",
   "id": "9acd92a6-d272-4c53-b07d-d0e259193b38",
   "metadata": {},
   "source": [
    "Number of Legitimate Transactions: 199020\n",
    "\n",
    "Number of Fraud Transactions: 344\n",
    "\n",
    "The dataset is highly imbalanced, this can lead to over-fitting & biased toward the majority class.We can make it balanced using Synthetic Minority Oversampling\n",
    "\n",
    "(Reference : https://medium.com/@corymaklin/synthetic-minority-over-sampling-technique-smote-7d419696b88c )"
   ]
  },
  {
   "cell_type": "code",
   "execution_count": 42,
   "id": "8748032d-9b9c-4086-9fb7-bec190550ef5",
   "metadata": {},
   "outputs": [
    {
     "name": "stdout",
     "output_type": "stream",
     "text": [
      "Requirement already satisfied: imbalanced-learn in c:\\users\\admin\\appdata\\local\\programs\\python\\python312\\lib\\site-packages (0.12.2)\n",
      "Requirement already satisfied: numpy>=1.17.3 in c:\\users\\admin\\appdata\\local\\programs\\python\\python312\\lib\\site-packages (from imbalanced-learn) (1.26.3)\n",
      "Requirement already satisfied: scipy>=1.5.0 in c:\\users\\admin\\appdata\\local\\programs\\python\\python312\\lib\\site-packages (from imbalanced-learn) (1.12.0)\n",
      "Requirement already satisfied: scikit-learn>=1.0.2 in c:\\users\\admin\\appdata\\local\\programs\\python\\python312\\lib\\site-packages (from imbalanced-learn) (1.4.1.post1)\n",
      "Requirement already satisfied: joblib>=1.1.1 in c:\\users\\admin\\appdata\\local\\programs\\python\\python312\\lib\\site-packages (from imbalanced-learn) (1.3.2)\n",
      "Requirement already satisfied: threadpoolctl>=2.0.0 in c:\\users\\admin\\appdata\\local\\programs\\python\\python312\\lib\\site-packages (from imbalanced-learn) (3.4.0)\n",
      "Note: you may need to restart the kernel to use updated packages.\n"
     ]
    },
    {
     "name": "stderr",
     "output_type": "stream",
     "text": [
      "\n",
      "[notice] A new release of pip is available: 23.3.2 -> 24.0\n",
      "[notice] To update, run: python.exe -m pip install --upgrade pip\n"
     ]
    }
   ],
   "source": [
    "pip install imbalanced-learn\n"
   ]
  },
  {
   "cell_type": "code",
   "execution_count": 43,
   "id": "90d917b9-386c-4a7e-918f-2a12dd9e8357",
   "metadata": {},
   "outputs": [
    {
     "name": "stdout",
     "output_type": "stream",
     "text": [
      "Train data shape: (398040, 29)\n",
      "Train data labels, label count: (array([False,  True]), array([199020, 199020], dtype=int64))\n",
      "\n"
     ]
    }
   ],
   "source": [
    "from imblearn.over_sampling import SMOTE\n",
    "sm = SMOTE(random_state=42, k_neighbors=5)\n",
    "X_res, y_res = sm.fit_resample(df_X_train, y_train)\n",
    "\n",
    "df_X_train_res = pd.DataFrame(X_res)\n",
    "df_X_train_res.columns = list(df_data.columns[1:-1])\n",
    "\n",
    "# Train data Information\n",
    "print('Train data shape:', df_X_train_res.shape)\n",
    "print('Train data labels, label count:', np.unique(y_res, return_counts=True))\n",
    "print()"
   ]
  },
  {
   "cell_type": "code",
   "execution_count": 44,
   "id": "1833d892-2d98-42f2-8d0f-7cf3bf95da64",
   "metadata": {},
   "outputs": [
    {
     "data": {
      "text/plain": [
       "Time      0\n",
       "V1        0\n",
       "V2        0\n",
       "V3        0\n",
       "V4        0\n",
       "V5        0\n",
       "V6        0\n",
       "V7        0\n",
       "V8        0\n",
       "V9        0\n",
       "V10       0\n",
       "V11       0\n",
       "V12       0\n",
       "V13       0\n",
       "V14       0\n",
       "V15       0\n",
       "V16       0\n",
       "V17       0\n",
       "V18       0\n",
       "V19       0\n",
       "V20       0\n",
       "V21       0\n",
       "V22       0\n",
       "V23       0\n",
       "V24       0\n",
       "V25       0\n",
       "V26       0\n",
       "V27       0\n",
       "V28       0\n",
       "Amount    0\n",
       "Class     0\n",
       "dtype: int64"
      ]
     },
     "execution_count": 44,
     "metadata": {},
     "output_type": "execute_result"
    }
   ],
   "source": [
    "df_data.isna().sum()   # There are no null values in the dataset, so there is no need to handle it."
   ]
  },
  {
   "cell_type": "code",
   "execution_count": 45,
   "id": "f70c0050-d0fe-4c2e-b607-0c8be6eec6bc",
   "metadata": {},
   "outputs": [],
   "source": [
    "from sklearn.model_selection import train_test_split, GridSearchCV  # Importing GridSearchCV\n",
    "from sklearn.tree import DecisionTreeClassifier  # Import DecisionTreeClassifier\n"
   ]
  },
  {
   "cell_type": "code",
   "execution_count": 46,
   "id": "0eb2b0c6-7d73-44c3-bce3-5b90ccc44c21",
   "metadata": {},
   "outputs": [
    {
     "name": "stdout",
     "output_type": "stream",
     "text": [
      "Performance Metrics:\n",
      "Accuracy: 0.9972262209894316\n",
      "Precision: 0.3540983606557377\n",
      "Recall: 0.7297297297297297\n",
      "F1 Score: 0.4768211920529801\n",
      "\n",
      "Confusion Matrix:\n",
      "[[85098   197]\n",
      " [   40   108]]\n"
     ]
    }
   ],
   "source": [
    "#DT\n",
    "from sklearn.tree import DecisionTreeClassifier\n",
    "from sklearn.metrics import accuracy_score, precision_score, recall_score, f1_score, confusion_matrix\n",
    "\n",
    "#DT classifier\n",
    "clf = DecisionTreeClassifier(random_state=random_seed)\n",
    "\n",
    "# model training\n",
    "clf.fit(df_X_train_res, y_res)\n",
    "\n",
    "#test data prediction\n",
    "y_pred = clf.predict(df_X_test)\n",
    "\n",
    "#performance metrics\n",
    "accuracy = accuracy_score(y_test, y_pred)\n",
    "precision = precision_score(y_test, y_pred)\n",
    "recall = recall_score(y_test, y_pred)\n",
    "f1 = f1_score(y_test, y_pred)\n",
    "conf_matrix = confusion_matrix(y_test, y_pred)\n",
    "\n",
    "print(\"Performance Metrics:\")\n",
    "print(\"Accuracy:\", accuracy)\n",
    "print(\"Precision:\", precision)\n",
    "print(\"Recall:\", recall)\n",
    "print(\"F1 Score:\", f1)\n",
    "print(\"\\nConfusion Matrix:\")\n",
    "print(conf_matrix)\n"
   ]
  }
 ],
 "metadata": {
  "kernelspec": {
   "display_name": "Python 3 (ipykernel)",
   "language": "python",
   "name": "python3"
  },
  "language_info": {
   "codemirror_mode": {
    "name": "ipython",
    "version": 3
   },
   "file_extension": ".py",
   "mimetype": "text/x-python",
   "name": "python",
   "nbconvert_exporter": "python",
   "pygments_lexer": "ipython3",
   "version": "3.12.1"
  }
 },
 "nbformat": 4,
 "nbformat_minor": 5
}
